{
 "cells": [
  {
   "cell_type": "code",
   "execution_count": 1,
   "id": "55421a1b",
   "metadata": {},
   "outputs": [],
   "source": [
    "import hashlib"
   ]
  },
  {
   "cell_type": "code",
   "execution_count": 4,
   "id": "06b6f7f3",
   "metadata": {},
   "outputs": [
    {
     "name": "stdout",
     "output_type": "stream",
     "text": [
      "7852   000072d930284346c3d54c5cda0306900078c9be695b24d899d5ebeb2057ebcf\n"
     ]
    }
   ],
   "source": [
    "puzzleID = \"BBSE_E01\"\n",
    "d=\"0000\" # difficulty -- longer ==harder\n",
    "x=0\n",
    "\n",
    "while (True):\n",
    "    result = puzzleID+str(x) #concatenate\n",
    "    result = result.encode() #string to byte\n",
    "    result = hashlib.sha256(result).hexdigest()\n",
    "    \n",
    "    if (result[:4]==d): #check first 4 charac\n",
    "        break\n",
    "    x+=1\n",
    "\n",
    "\n",
    "print (str(x)+'   '+str(result))"
   ]
  },
  {
   "cell_type": "code",
   "execution_count": null,
   "id": "9ffab3ca",
   "metadata": {},
   "outputs": [],
   "source": []
  }
 ],
 "metadata": {
  "kernelspec": {
   "display_name": "Python 3 (ipykernel)",
   "language": "python",
   "name": "python3"
  },
  "language_info": {
   "codemirror_mode": {
    "name": "ipython",
    "version": 3
   },
   "file_extension": ".py",
   "mimetype": "text/x-python",
   "name": "python",
   "nbconvert_exporter": "python",
   "pygments_lexer": "ipython3",
   "version": "3.9.7"
  }
 },
 "nbformat": 4,
 "nbformat_minor": 5
}
